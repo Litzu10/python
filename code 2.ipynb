{
 "cells": [
  {
   "cell_type": "markdown",
   "metadata": {},
   "source": [
    "## 小程式"
   ]
  },
  {
   "cell_type": "markdown",
   "metadata": {},
   "source": [
    "for、while 迴圈"
   ]
  },
  {
   "cell_type": "code",
   "execution_count": 1,
   "metadata": {},
   "outputs": [
    {
     "name": "stdout",
     "output_type": "stream",
     "text": [
      "Populating the interactive namespace from numpy and matplotlib\n"
     ]
    }
   ],
   "source": [
    "%pylab inline \n",
    "%matplotlib inline\n",
    "\n",
    "import numpy as np \n",
    "import matplotlib.pyplot as plt"
   ]
  },
  {
   "cell_type": "markdown",
   "metadata": {},
   "source": [
    "1.加油打氣機器人"
   ]
  },
  {
   "cell_type": "code",
   "execution_count": 19,
   "metadata": {},
   "outputs": [
    {
     "name": "stdout",
     "output_type": "stream",
     "text": [
      ">> 上星期考試公式都背錯了!\n",
      " 沒關係! 再接再厲!!!\n",
      ">> thanks!\n",
      " 沒關係! 再接再厲!!!\n"
     ]
    }
   ],
   "source": [
    "message=\"\"\n",
    "while message!=\"thanks!\":\n",
    "    message=input(\">> \")\n",
    "    print(\" 沒關係! 再接再厲!!!\")"
   ]
  },
  {
   "cell_type": "markdown",
   "metadata": {},
   "source": [
    "2. 反轉字串"
   ]
  },
  {
   "cell_type": "code",
   "execution_count": 22,
   "metadata": {},
   "outputs": [
    {
     "name": "stdout",
     "output_type": "stream",
     "text": [
      "sknaht\n"
     ]
    }
   ],
   "source": [
    "def reverse(x):\n",
    "    print(x[::-1])\n",
    "\n",
    "st=\"thanks\"\n",
    "reverse(st)"
   ]
  },
  {
   "cell_type": "markdown",
   "metadata": {},
   "source": [
    "3.年份 (2020-2040)"
   ]
  },
  {
   "cell_type": "code",
   "execution_count": 42,
   "metadata": {},
   "outputs": [
    {
     "name": "stdout",
     "output_type": "stream",
     "text": [
      "西元2020年 = 庚寅年\n",
      "西元2021年 = 辛卯年\n",
      "西元2022年 = 壬辰年\n",
      "西元2023年 = 癸巳年\n",
      "西元2024年 = 甲午年\n",
      "西元2025年 = 乙未年\n",
      "西元2026年 = 丙申年\n",
      "西元2027年 = 丁酉年\n",
      "西元2028年 = 戊子年\n",
      "西元2029年 = 己丑年\n",
      "西元2030年 = 庚寅年\n",
      "西元2031年 = 辛卯年\n",
      "西元2032年 = 壬辰年\n",
      "西元2033年 = 癸巳年\n",
      "西元2034年 = 甲午年\n",
      "西元2035年 = 乙未年\n",
      "西元2036年 = 丙申年\n",
      "西元2037年 = 丁酉年\n",
      "西元2038年 = 戊子年\n",
      "西元2039年 = 己丑年\n",
      "西元2040年 = 庚寅年\n"
     ]
    }
   ],
   "source": [
    "天干 = [\"甲\",\"乙\",\"丙\",\"丁\",\"戊\",\"己\",\"庚\",\"辛\",\"壬\",\"癸\"]\n",
    "地支 = [\"子\",\"丑\",\"寅\",\"卯\",\"辰\",\"巳\",\"午\",\"未\",\"申\",\"酉\",\"戌\",\"亥\"]\n",
    "l= list(range(0,21))\n",
    "for i in l:\n",
    "    a = 2020+i\n",
    "    b = 天干[6+i-10*int((6+i)/10)]\n",
    "    c = 地支[2+i-10*int((2+i)/10)]\n",
    "    print(\"西元{}年 = {}{}年\".format(a,b,c))\n",
    "    "
   ]
  },
  {
   "cell_type": "markdown",
   "metadata": {},
   "source": [
    "4. Print a tree"
   ]
  },
  {
   "cell_type": "code",
   "execution_count": 13,
   "metadata": {},
   "outputs": [
    {
     "name": "stdout",
     "output_type": "stream",
     "text": [
      "n=10\n",
      "           \n",
      "          *\n",
      "         ***\n",
      "        *****\n",
      "       *******\n",
      "      *********\n",
      "     ***********\n",
      "    *************\n",
      "   ***************\n",
      "  *****************\n"
     ]
    }
   ],
   "source": [
    "def tree(n):\n",
    "    for i in range(n):\n",
    "        print(\" \"*(n-i),\"*\"*(i*2-1))\n",
    "n=input(\"n=\")\n",
    "n=int(n)\n",
    "tree(n)"
   ]
  }
 ],
 "metadata": {
  "kernelspec": {
   "display_name": "Python 3",
   "language": "python",
   "name": "python3"
  },
  "language_info": {
   "codemirror_mode": {
    "name": "ipython",
    "version": 3
   },
   "file_extension": ".py",
   "mimetype": "text/x-python",
   "name": "python",
   "nbconvert_exporter": "python",
   "pygments_lexer": "ipython3",
   "version": "3.7.3"
  }
 },
 "nbformat": 4,
 "nbformat_minor": 2
}
