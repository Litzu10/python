{
 "cells": [
  {
   "cell_type": "markdown",
   "metadata": {},
   "source": [
    "# Data Structure HW3、4"
   ]
  },
  {
   "cell_type": "markdown",
   "metadata": {},
   "source": [
    "## B tree"
   ]
  },
  {
   "cell_type": "code",
   "execution_count": 62,
   "metadata": {},
   "outputs": [],
   "source": [
    "import numpy as np\n",
    "import random\n",
    "from random import randint\n",
    "import time"
   ]
  },
  {
   "cell_type": "code",
   "execution_count": 63,
   "metadata": {},
   "outputs": [],
   "source": [
    "# Create node\n",
    "class BTreeNode:\n",
    "    def __init__(self, leaf=False):\n",
    "        self.leaf = leaf\n",
    "        self.keys = []\n",
    "        self.child = []\n",
    "        \n",
    "class BTree:\n",
    "    def __init__(self, t):\n",
    "        self.root = BTreeNode(True)\n",
    "        self.t = t\n",
    "\n",
    "    # Insert node\n",
    "    def insert(self, k):\n",
    "        root = self.root\n",
    "        if len(root.keys) == (2 * self.t) - 1:\n",
    "            temp = BTreeNode()\n",
    "            self.root = temp\n",
    "            temp.child.insert(0, root)\n",
    "            self.split_child(temp, 0)\n",
    "            self.insert_non_full(temp, k)\n",
    "        else:\n",
    "            self.insert_non_full(root, k)\n",
    "\n",
    "    # Insert nonfull\n",
    "    def insert_non_full(self, x, k):\n",
    "        i = len(x.keys) - 1\n",
    "        if x.leaf:\n",
    "            x.keys.append((None, None))\n",
    "            while i >= 0 and k[0] < x.keys[i][0]:\n",
    "                x.keys[i + 1] = x.keys[i]\n",
    "                i -= 1\n",
    "            x.keys[i + 1] = k\n",
    "        else:\n",
    "            while i >= 0 and k[0] < x.keys[i][0]:\n",
    "                i -= 1\n",
    "            i += 1\n",
    "            if len(x.child[i].keys) == (2 * self.t) - 1:\n",
    "                self.split_child(x, i)\n",
    "                if k[0] > x.keys[i][0]:\n",
    "                    i += 1\n",
    "            self.insert_non_full(x.child[i], k)\n",
    "\n",
    "    # Split the child\n",
    "    def split_child(self, x, i):\n",
    "        t = self.t\n",
    "        y = x.child[i]\n",
    "        z = BTreeNode(y.leaf)\n",
    "        x.child.insert(i + 1, z)\n",
    "        x.keys.insert(i, y.keys[t - 1])\n",
    "        z.keys = y.keys[t: (2 * t) - 1]\n",
    "        y.keys = y.keys[0: t - 1]\n",
    "        if not y.leaf:\n",
    "            z.child = y.child[t: 2 * t]\n",
    "            y.child = y.child[0: t - 1]\n",
    "\n",
    "    # Search key\n",
    "    def search(self, k, x=None):\n",
    "        if x is not None:\n",
    "            i = 0\n",
    "            while i < len(x.keys) and k > x.keys[i][0]:\n",
    "                i += 1\n",
    "            if i < len(x.keys) and k == x.keys[i][0]:\n",
    "                return (x, i)\n",
    "            elif x.leaf:\n",
    "                return None\n",
    "            else:\n",
    "                return self.search(k, x.child[i])\n",
    "        else:\n",
    "            return self.search(k, self.root)\n",
    "        \n",
    "    \n",
    "    def print_tree(self, x, l=0):\n",
    "        print(\"Level \", l, \" \", len(x.keys), end=\":\")\n",
    "        for i in x.keys:\n",
    "            print(i, end=\" \")\n",
    "        print()\n",
    "        l += 1\n",
    "        if len(x.child) > 0:\n",
    "            for i in x.child:\n",
    "                self.print_tree(i, l)"
   ]
  },
  {
   "cell_type": "markdown",
   "metadata": {},
   "source": [
    "用random function 產生出亂數"
   ]
  },
  {
   "cell_type": "code",
   "execution_count": 68,
   "metadata": {},
   "outputs": [],
   "source": [
    "def random(k):\n",
    "    number = []\n",
    "    number.append(np.random.randint(1,2**30+1, size = 2**k)) # 2**k,k=10~30(k為次方)\n",
    "    return number[0]\n",
    "w = random(k) #k=10~30"
   ]
  },
  {
   "cell_type": "markdown",
   "metadata": {},
   "source": [
    "### Insert"
   ]
  },
  {
   "cell_type": "code",
   "execution_count": null,
   "metadata": {},
   "outputs": [],
   "source": [
    "start = time.clock() \n",
    "\n",
    "def main():\n",
    "    B = BTree(3)\n",
    "    \n",
    "    for i in range(2**k): #2**k,k=10~30(k為次方)\n",
    "        B.insert((i, w[i])) \n",
    "\n",
    "    B.print_tree(B.root) \n",
    "\n",
    "if __name__ == '__main__':\n",
    "    main()\n",
    "    \n",
    "end = time.clock()\n",
    " \n",
    "print(\"Time:\", (end - start))"
   ]
  },
  {
   "cell_type": "markdown",
   "metadata": {},
   "source": [
    "### Search"
   ]
  },
  {
   "cell_type": "code",
   "execution_count": null,
   "metadata": {},
   "outputs": [],
   "source": [
    "start = time.clock()\n",
    "\n",
    "def mains():\n",
    "    B = BTree(3)\n",
    "    x = np.random.randint(1,2**30+1,100000)\n",
    "    \n",
    "    for i in range(2**k): #2**k,k=10~30(k為次方)\n",
    "        B.insert((i, w[i]))\n",
    "    \n",
    "    for n in range(10000):\n",
    "        if B.search(x[n]) is not None:\n",
    "            print(\"\\nFound\")\n",
    "        else:\n",
    "            print(\"\\nNot found\")\n",
    "\n",
    "\n",
    "if __name__ == '__main__':\n",
    "    mains()\n",
    "\n",
    "    \n",
    "end = time.clock()\n",
    " \n",
    "print(\"Time:\", (end - start))"
   ]
  },
  {
   "cell_type": "markdown",
   "metadata": {},
   "source": [
    "### END ! !"
   ]
  }
 ],
 "metadata": {
  "kernelspec": {
   "display_name": "Python 3",
   "language": "python",
   "name": "python3"
  },
  "language_info": {
   "codemirror_mode": {
    "name": "ipython",
    "version": 3
   },
   "file_extension": ".py",
   "mimetype": "text/x-python",
   "name": "python",
   "nbconvert_exporter": "python",
   "pygments_lexer": "ipython3",
   "version": "3.7.3"
  }
 },
 "nbformat": 4,
 "nbformat_minor": 2
}
