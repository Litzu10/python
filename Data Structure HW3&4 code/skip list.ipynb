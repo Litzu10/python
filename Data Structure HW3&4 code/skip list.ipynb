{
 "cells": [
  {
   "cell_type": "markdown",
   "metadata": {},
   "source": [
    "# Data Structure HW3、4"
   ]
  },
  {
   "cell_type": "markdown",
   "metadata": {},
   "source": [
    "## Skip list "
   ]
  },
  {
   "cell_type": "code",
   "execution_count": 37,
   "metadata": {},
   "outputs": [],
   "source": [
    "import numpy as np\n",
    "import random\n",
    "import time"
   ]
  },
  {
   "cell_type": "code",
   "execution_count": 38,
   "metadata": {},
   "outputs": [],
   "source": [
    "class Node(object):\n",
    "\n",
    "    def __init__(self, key, level):\n",
    "        self.key = key\n",
    "        \n",
    "        self.forward = [None]*(level+1)\n",
    "\n",
    "class SkipList(object):\n",
    "\n",
    "    def __init__(self, max_lvl, P):\n",
    "        # Maximum level for this skip list \n",
    "        self.MAXLVL = max_lvl\n",
    "  \n",
    "        # P is the fraction of the nodes with level  \n",
    "        # i references also having level i+1 references \n",
    "        self.P = P\n",
    "  \n",
    "        # create header node and initialize key to -1 \n",
    "        self.header = self.createNode(self.MAXLVL, -1)\n",
    "  \n",
    "        # current level of skip list \n",
    "        self.level = 0\n",
    "      \n",
    "    # create  new node \n",
    "    def createNode(self, lvl, key):\n",
    "        n = Node(key, lvl)\n",
    "        return n\n",
    "      \n",
    "    # create random level for node \n",
    "    def randomLevel(self):\n",
    "        lvl = 0\n",
    "        while random.random()<self.P and lvl<self.MAXLVL:lvl += 1\n",
    "        return lvl\n",
    "  \n",
    "    # insert given key in skip list \n",
    "    def insertElement(self, key):\n",
    "        # create update array and initialize it \n",
    "        update = [None]*(self.MAXLVL+1)\n",
    "        current = self.header\n",
    "  \n",
    "        for i in range(self.level, -1, -1):\n",
    "            while current.forward[i] and current.forward[i].key < key:\n",
    "                current = current.forward[i]\n",
    "            update[i] = current\n",
    "  \n",
    "        current = current.forward[0]\n",
    "  \n",
    "       \n",
    "        if current == None or current.key != key:\n",
    "            # Generate a random level for node \n",
    "            rlevel = self.randomLevel()\n",
    "  \n",
    "          \n",
    "            if rlevel > self.level:\n",
    "                for i in range(self.level+1, rlevel+1):\n",
    "                    update[i] = self.header\n",
    "                self.level = rlevel\n",
    "  \n",
    "            # create new node with random level generated \n",
    "            n = self.createNode(rlevel, key)\n",
    "  \n",
    "            # insert node by rearranging references  \n",
    "            for i in range(rlevel+1):\n",
    "                n.forward[i] = update[i].forward[i]\n",
    "                update[i].forward[i] = n\n",
    "  \n",
    "            #print(\"Successfully inserted key {}\".format(key))\n",
    "    #search\n",
    "    def searchElement(self, key):\n",
    "        current = self.header\n",
    "    \n",
    "        for i in range(self.level, -1, -1):\n",
    "            while(current.forward[i] and current.forward[i].key < key): \n",
    "                current = current.forward[i]\n",
    "            \n",
    "        current = current.forward[0] \n",
    "    \n",
    "        if current and current.key == key:\n",
    "            print(\"\\nFound\", key)\n",
    "        else:\n",
    "            print(\"\\nNot Found\")\n",
    "  \n",
    "    # Display skip list level wise \n",
    "    def displayList(self):\n",
    "        head = self.header\n",
    "        for lvl in range(self.level+1):\n",
    "            print(\"Level {}: \".format(lvl), end=\" \")\n",
    "            node = head.forward[lvl]\n",
    "            while(node != None):\n",
    "                print(node.key, end=\" \")\n",
    "                node = node.forward[lvl]\n",
    "            print(\"\")"
   ]
  },
  {
   "cell_type": "code",
   "execution_count": 78,
   "metadata": {},
   "outputs": [],
   "source": [
    "def random_data(k):\n",
    "    number = []\n",
    "    number.append(np.random.randint(1,2**30+1, size = 2**k)) #2**k,k=10~30(k為次方)\n",
    "    return number[0]\n",
    "w = random_data(k)"
   ]
  },
  {
   "cell_type": "markdown",
   "metadata": {},
   "source": [
    "### insert"
   ]
  },
  {
   "cell_type": "code",
   "execution_count": null,
   "metadata": {},
   "outputs": [],
   "source": [
    "def main(): \n",
    "    lst = SkipList(min(w), 0.5) \n",
    "    \n",
    "    for i in range(2**k): #k=10~30\n",
    "        lst.insertElement(w[i])  \n",
    "    \n",
    "    lst.displayList() \n",
    "\n",
    "start = time.clock() \n",
    "\n",
    "main()\n",
    "\n",
    "end = time.clock()\n",
    " \n",
    "print(\"Time:\", (end - start))"
   ]
  },
  {
   "cell_type": "markdown",
   "metadata": {},
   "source": [
    "### search"
   ]
  },
  {
   "cell_type": "code",
   "execution_count": null,
   "metadata": {},
   "outputs": [],
   "source": [
    "start = time.clock()  \n",
    "\n",
    "def mains(): \n",
    "    lst = SkipList(min(w), 0.5) \n",
    "    x = np.random.randint(1,2**30+1,100000)\n",
    "    \n",
    "    for i in range(2**k): #k=10~30\n",
    "        lst.insertElement(w[i])  \n",
    "        \n",
    "    for n in range(100000):\n",
    "        lst.searchElement(x[n])\n",
    "\n",
    "mains()\n",
    "\n",
    "end = time.clock()\n",
    " \n",
    "print(\"Time:\", (end - start))"
   ]
  },
  {
   "cell_type": "markdown",
   "metadata": {},
   "source": [
    "### END ! !"
   ]
  }
 ],
 "metadata": {
  "kernelspec": {
   "display_name": "Python 3",
   "language": "python",
   "name": "python3"
  },
  "language_info": {
   "codemirror_mode": {
    "name": "ipython",
    "version": 3
   },
   "file_extension": ".py",
   "mimetype": "text/x-python",
   "name": "python",
   "nbconvert_exporter": "python",
   "pygments_lexer": "ipython3",
   "version": "3.7.3"
  }
 },
 "nbformat": 4,
 "nbformat_minor": 2
}
