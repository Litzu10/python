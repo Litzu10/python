{
 "cells": [
  {
   "cell_type": "markdown",
   "metadata": {},
   "source": [
    "## 小程式"
   ]
  },
  {
   "cell_type": "markdown",
   "metadata": {},
   "source": [
    "array 練習"
   ]
  },
  {
   "cell_type": "code",
   "execution_count": 3,
   "metadata": {},
   "outputs": [
    {
     "name": "stdout",
     "output_type": "stream",
     "text": [
      "Populating the interactive namespace from numpy and matplotlib\n"
     ]
    }
   ],
   "source": [
    "%pylab inline \n",
    "%matplotlib inline\n",
    "\n",
    "import numpy as np \n",
    "import matplotlib.pyplot as plt"
   ]
  },
  {
   "cell_type": "markdown",
   "metadata": {},
   "source": [
    "1. 班級平均成績"
   ]
  },
  {
   "cell_type": "code",
   "execution_count": 24,
   "metadata": {},
   "outputs": [
    {
     "name": "stdout",
     "output_type": "stream",
     "text": [
      "ClassA_grade: \n",
      " [[11 37 81  9 59]\n",
      " [24 68 46 16 99]\n",
      " [63 18 23 48 20]\n",
      " [30 57 38 28 15]\n",
      " [15 87  1  7 59]\n",
      " [42  3 35 28 93]\n",
      " [ 4 79 54 40 95]\n",
      " [68 40 65 29 72]\n",
      " [49 81 25 51 81]\n",
      " [26 83 34 47 45]]\n",
      "ClassB_grade: \n",
      " [[ 87  88  50  18  47]\n",
      " [ 69  27  83  12  75]\n",
      " [ 26  56   6  57  49]\n",
      " [ 47  90  15  98 100]\n",
      " [ 61  59  85  64  91]\n",
      " [ 94  71  98  74  36]\n",
      " [ 25  31  28  86  41]\n",
      " [ 86  46  77  57  39]\n",
      " [ 73  72  82  26  61]\n",
      " [ 23  88  35   8  62]]\n",
      "ClassC_grade: \n",
      " [[77  3 13  1 18]\n",
      " [32 90 79 48 72]\n",
      " [45 21 71 15 79]\n",
      " [53 82 24 53 34]\n",
      " [95 62  6 29 90]\n",
      " [56 57  9 53 88]\n",
      " [ 6  6 19  8 63]\n",
      " [11 92 56 98  1]\n",
      " [18 69 25 48 97]\n",
      " [88 68  9 98 58]]\n"
     ]
    }
   ],
   "source": [
    "A = np.random.randint(0,101,[10,5])\n",
    "print(\"ClassA_grade:\",'\\n',A)\n",
    "B = np.random.randint(0,101,[10,5])\n",
    "print(\"ClassB_grade:\",'\\n',B)\n",
    "C = np.random.randint(0,101,[10,5])\n",
    "print(\"ClassC_grade:\",'\\n',C)\n",
    "weights = np.array([0.25,0.25,0.25,0.15,0.10])"
   ]
  },
  {
   "cell_type": "code",
   "execution_count": 52,
   "metadata": {},
   "outputs": [
    {
     "data": {
      "text/plain": [
       "array([43.1  , 57.96 , 46.315])"
      ]
     },
     "execution_count": 52,
     "metadata": {},
     "output_type": "execute_result"
    }
   ],
   "source": [
    "avgA = sum(np.dot(A,weights))/10\n",
    "avgB = sum(np.dot(B,weights))/10\n",
    "avgC = sum(np.dot(C,weights))/10\n",
    "score = np.array([avgA,avgB,avgC])\n",
    "score"
   ]
  },
  {
   "cell_type": "markdown",
   "metadata": {},
   "source": [
    "2. 向日葵班"
   ]
  },
  {
   "cell_type": "code",
   "execution_count": 39,
   "metadata": {},
   "outputs": [
    {
     "data": {
      "text/plain": [
       "array([  8,  54,  10,  65,  84,  40,   3,   8, 100,  84,  81,  25,  80,\n",
       "        99,  19,  71,  44,  54,  54,  98,  24,  85,  95,  50,  68,  81,\n",
       "        98,  58,  23,  58,  80,  13,  95,  38,  45,  91,  16,  45,   9,\n",
       "        37])"
      ]
     },
     "execution_count": 39,
     "metadata": {},
     "output_type": "execute_result"
    }
   ],
   "source": [
    "g = np.random.randint(0,101,40)\n",
    "g"
   ]
  },
  {
   "cell_type": "code",
   "execution_count": 46,
   "metadata": {},
   "outputs": [
    {
     "name": "stdout",
     "output_type": "stream",
     "text": [
      "max:100\n",
      " min:3\n",
      " 及格:[ 65  84 100  84  81  80  99  71  98  85  95  68  81  98  80  95  91]\n",
      " mean:54.75\n",
      " std:30.739022430780064\n"
     ]
    }
   ],
   "source": [
    "max_g = max(g)\n",
    "min_g = min(g)\n",
    "ok = g[g>=60]\n",
    "mean = np.mean(g)\n",
    "std = np.std(g)\n",
    "print(\"max:{}\\n min:{}\\n 及格:{}\\n mean:{}\\n std:{}\".format(max_g,min_g,ok,mean,std))\n"
   ]
  },
  {
   "cell_type": "code",
   "execution_count": 55,
   "metadata": {},
   "outputs": [
    {
     "data": {
      "text/plain": [
       "(array([5., 3., 3., 3., 4., 5., 2., 3., 5., 7.]),\n",
       " array([  3. ,  12.7,  22.4,  32.1,  41.8,  51.5,  61.2,  70.9,  80.6,\n",
       "         90.3, 100. ]),\n",
       " <a list of 10 Patch objects>)"
      ]
     },
     "execution_count": 55,
     "metadata": {},
     "output_type": "execute_result"
    },
    {
     "data": {
      "image/png": "[encoded data removed]",
      "text/plain": [
       "<Figure size 432x288 with 1 Axes>"
      ]
     },
     "metadata": {
      "needs_background": "light"
     },
     "output_type": "display_data"
    }
   ],
   "source": [
    "plt.hist(g, bins=10)"
   ]
  }
 ],
 "metadata": {
  "kernelspec": {
   "display_name": "Python 3",
   "language": "python",
   "name": "python3"
  },
  "language_info": {
   "codemirror_mode": {
    "name": "ipython",
    "version": 3
   },
   "file_extension": ".py",
   "mimetype": "text/x-python",
   "name": "python",
   "nbconvert_exporter": "python",
   "pygments_lexer": "ipython3",
   "version": "3.7.3"
  }
 },
 "nbformat": 4,
 "nbformat_minor": 2
}
