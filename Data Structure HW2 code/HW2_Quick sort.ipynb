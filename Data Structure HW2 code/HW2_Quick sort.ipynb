{
 "cells": [
  {
   "cell_type": "markdown",
   "metadata": {},
   "source": [
    "# Data Structure HW2"
   ]
  },
  {
   "cell_type": "markdown",
   "metadata": {},
   "source": [
    "## Randomized Quick Sort"
   ]
  },
  {
   "cell_type": "code",
   "execution_count": 1,
   "metadata": {},
   "outputs": [],
   "source": [
    "import numpy as np\n",
    "import random \n",
    "import time"
   ]
  },
  {
   "cell_type": "code",
   "execution_count": 2,
   "metadata": {},
   "outputs": [],
   "source": [
    "def partition(arr, low, high):      \n",
    "    pivot = arr[low]  \n",
    "    i = low - 1\n",
    "    j = high + 1\n",
    "      \n",
    "    while (True):  \n",
    "        i += 1\n",
    "        while (arr[i] < pivot): \n",
    "            i += 1\n",
    "        j -= 1\n",
    "        while (arr[j] > pivot): \n",
    "            j -= 1\n",
    "              \n",
    "        # If two pointers met.  \n",
    "        if (i >= j): \n",
    "            return j  \n",
    "          \n",
    "        arr[i], arr[j] = arr[j], arr[i] \n"
   ]
  },
  {
   "cell_type": "code",
   "execution_count": 3,
   "metadata": {},
   "outputs": [],
   "source": [
    "def quickSort(arr, low, high):     \n",
    "    if (low < high):           \n",
    "        pi = partition(arr, low, high)    \n",
    "        quickSort(arr, low, pi)  \n",
    "        quickSort(arr, pi + 1, high)"
   ]
  },
  {
   "cell_type": "code",
   "execution_count": 4,
   "metadata": {},
   "outputs": [],
   "source": [
    "def printArray(arr, n): \n",
    "    for i in range(n): \n",
    "        print(arr[i],end=\" \")  \n",
    "    print()  "
   ]
  },
  {
   "cell_type": "markdown",
   "metadata": {},
   "source": [
    "### Uniformly randomly array"
   ]
  },
  {
   "cell_type": "markdown",
   "metadata": {},
   "source": [
    "執行程式時會根據次方調整。 >> 2^k, k=10~30"
   ]
  },
  {
   "cell_type": "code",
   "execution_count": null,
   "metadata": {},
   "outputs": [],
   "source": [
    "start = time.clock()  \n",
    "\n",
    "for n in range(1,11):\n",
    "    arr = np.random.randint(1,1001, size=2**k) # 2**k,k=10~30(k為次方)\n",
    "    n = len(arr) \n",
    "    quickSort(arr, 0, n - 1)   \n",
    "    printArray(arr, n)  \n",
    "    \n",
    "end = time.clock()\n",
    " \n",
    "print(\"Time:\", (end - start)/10) "
   ]
  },
  {
   "cell_type": "markdown",
   "metadata": {},
   "source": [
    "### Almost sortd array"
   ]
  },
  {
   "cell_type": "code",
   "execution_count": 5,
   "metadata": {},
   "outputs": [],
   "source": [
    "def uniformly_randomly(k):\n",
    "    number = []\n",
    "    number.append(np.random.randint(1,1001,2**k))\n",
    "    return number"
   ]
  },
  {
   "cell_type": "code",
   "execution_count": 6,
   "metadata": {},
   "outputs": [],
   "source": [
    "def almost_sorted(k):\n",
    "    a = uniformly_randomly(k)\n",
    "    for i in range(len(a)):\n",
    "        a[i].sort\n",
    "        random.seed(i)\n",
    "        x = np.random.randint(1,2**k,100)\n",
    "        random.seed(i+1)\n",
    "        y = np.random.randint(1,1001,100)\n",
    "        for j in range(100):\n",
    "            a[i][x[j]] = y[j]\n",
    "    return np.array(a)[0]"
   ]
  },
  {
   "cell_type": "code",
   "execution_count": null,
   "metadata": {},
   "outputs": [],
   "source": [
    "start = time.clock()  \n",
    "\n",
    "for n in range(1,11):\n",
    "    arr = almost_sorted(k) # 2**k,k=10~30(k為次方)\n",
    "    n = len(arr) \n",
    "    quickSort(arr, 0, n - 1)   \n",
    "    printArray(arr, n)  \n",
    "    \n",
    "end = time.clock()\n",
    " \n",
    "print(\"Time:\", (end - start)/10) "
   ]
  },
  {
   "cell_type": "markdown",
   "metadata": {},
   "source": [
    "## End !!"
   ]
  }
 ],
 "metadata": {
  "kernelspec": {
   "display_name": "Python 3",
   "language": "python",
   "name": "python3"
  },
  "language_info": {
   "codemirror_mode": {
    "name": "ipython",
    "version": 3
   },
   "file_extension": ".py",
   "mimetype": "text/x-python",
   "name": "python",
   "nbconvert_exporter": "python",
   "pygments_lexer": "ipython3",
   "version": "3.7.3"
  }
 },
 "nbformat": 4,
 "nbformat_minor": 2
}
