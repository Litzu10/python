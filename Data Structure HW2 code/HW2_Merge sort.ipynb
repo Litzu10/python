{
 "cells": [
  {
   "cell_type": "markdown",
   "metadata": {},
   "source": [
    "# Data Structure HW2"
   ]
  },
  {
   "cell_type": "markdown",
   "metadata": {},
   "source": [
    "## Merge Sort"
   ]
  },
  {
   "cell_type": "code",
   "execution_count": 39,
   "metadata": {},
   "outputs": [],
   "source": [
    "import numpy as np\n",
    "import random \n",
    "import time"
   ]
  },
  {
   "cell_type": "code",
   "execution_count": 40,
   "metadata": {},
   "outputs": [],
   "source": [
    "def merge(arr, l, m, r): \n",
    "    n1 = m - l + 1\n",
    "    n2 = r- m \n",
    "    L = [0] * (n1) \n",
    "    R = [0] * (n2) \n",
    "    for i in range(0 , n1): \n",
    "        L[i] = arr[l + i] \n",
    "  \n",
    "    for j in range(0 , n2): \n",
    "        R[j] = arr[m + 1 + j] \n",
    "    i = 0     \n",
    "    j = 0      \n",
    "    k = l      \n",
    "  \n",
    "    while i < n1 and j < n2 : \n",
    "        if L[i] <= R[j]: \n",
    "            arr[k] = L[i] \n",
    "            i += 1\n",
    "        else: \n",
    "            arr[k] = R[j] \n",
    "            j += 1\n",
    "        k += 1\n",
    " \n",
    "    while i < n1: \n",
    "        arr[k] = L[i] \n",
    "        i += 1\n",
    "        k += 1\n",
    "\n",
    "    while j < n2: \n",
    "        arr[k] = R[j] \n",
    "        j += 1\n",
    "        k += 1\n",
    "        "
   ]
  },
  {
   "cell_type": "code",
   "execution_count": 41,
   "metadata": {},
   "outputs": [],
   "source": [
    "def mergeSort(arr,l,r): \n",
    "    if l < r: \n",
    "        m = (l+(r-1))//2\n",
    "        mergeSort(arr, l, m) \n",
    "        mergeSort(arr, m+1, r) \n",
    "        merge(arr, l, m, r)"
   ]
  },
  {
   "cell_type": "markdown",
   "metadata": {},
   "source": [
    "### Uniformly randomly array"
   ]
  },
  {
   "cell_type": "markdown",
   "metadata": {},
   "source": [
    "執行程式時會根據次方調整。 >> 2^k, k=10~30"
   ]
  },
  {
   "cell_type": "code",
   "execution_count": null,
   "metadata": {},
   "outputs": [],
   "source": [
    "start = time.clock()\n",
    "\n",
    "for n in range(1,11):\n",
    "    arr = np.random.randint(1,1001,size=2**k) # 2**k,k=10~30(k為次方)\n",
    "    n = len(arr) \n",
    "    mergeSort(arr,0,n-1) \n",
    "    for i in range(n): \n",
    "        print (\"%d\" %arr[i])\n",
    "    \n",
    "end = time.clock()\n",
    "\n",
    "print(\"Time:\", (end - start)/10) "
   ]
  },
  {
   "cell_type": "markdown",
   "metadata": {},
   "source": [
    "### Almost sorted array"
   ]
  },
  {
   "cell_type": "code",
   "execution_count": 42,
   "metadata": {},
   "outputs": [],
   "source": [
    "def uniformly_randomly(k):\n",
    "    number = []\n",
    "    number.append(np.random.randint(1,1001,2**k))\n",
    "    return number"
   ]
  },
  {
   "cell_type": "code",
   "execution_count": 43,
   "metadata": {},
   "outputs": [],
   "source": [
    "def almost_sorted(k):\n",
    "    a = uniformly_randomly(k)\n",
    "    for i in range(len(a)):\n",
    "        a[i].sort\n",
    "        random.seed(i)\n",
    "        x = np.random.randint(1,2**k,100)\n",
    "        random.seed(i+1)\n",
    "        y = np.random.randint(1,1001,100)\n",
    "        for j in range(100):\n",
    "            a[i][x[j]] = y[j]\n",
    "    return np.array(a)[0]"
   ]
  },
  {
   "cell_type": "code",
   "execution_count": null,
   "metadata": {},
   "outputs": [],
   "source": [
    "start = time.clock()\n",
    "\n",
    "for n in range(1,11):\n",
    "    arr = almost_sorted(k) # 2**k,k=10~30(k為次方)\n",
    "    n = len(arr)\n",
    "    mergeSort(arr,0,n-1) \n",
    "    for i in range(n): \n",
    "        print (\"%d\" %arr[i])\n",
    "    \n",
    "end = time.clock()\n",
    "\n",
    "print(\"Time:\", (end - start)/10) "
   ]
  },
  {
   "cell_type": "markdown",
   "metadata": {},
   "source": [
    "## End !!"
   ]
  }
 ],
 "metadata": {
  "kernelspec": {
   "display_name": "Python 3",
   "language": "python",
   "name": "python3"
  },
  "language_info": {
   "codemirror_mode": {
    "name": "ipython",
    "version": 3
   },
   "file_extension": ".py",
   "mimetype": "text/x-python",
   "name": "python",
   "nbconvert_exporter": "python",
   "pygments_lexer": "ipython3",
   "version": "3.7.3"
  }
 },
 "nbformat": 4,
 "nbformat_minor": 2
}
